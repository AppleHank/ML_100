{
 "cells": [
  {
   "cell_type": "markdown",
   "metadata": {},
   "source": [
    "# [作業目標]\n",
    "- 對資料做更多處理 : 顯示特定欄位的統計值與直方圖"
   ]
  },
  {
   "cell_type": "markdown",
   "metadata": {},
   "source": [
    "# [作業重點]\n",
    "- 試著顯示特定欄位的基礎統計數值 (In[4], Out[4], Hint : describe())\n",
    "- 試著顯示特定欄位的直方圖 (In[5], Out[5], Hint : .hist())"
   ]
  },
  {
   "cell_type": "code",
   "execution_count": null,
   "metadata": {
    "collapsed": true
   },
   "outputs": [],
   "source": [
    "# Import 需要的套件\n",
    "import os\n",
    "import numpy as np\n",
    "import pandas as pd\n",
    "\n",
    "# 設定 data_path\n",
    "dir_data = './data/'"
   ]
  },
  {
   "cell_type": "code",
   "execution_count": null,
   "metadata": {
    "collapsed": true
   },
   "outputs": [],
   "source": [
    "f_app_train = os.path.join(dir_data, 'application_train.csv')\n",
    "app_train = pd.read_csv(f_app_train)"
   ]
  },
  {
   "cell_type": "code",
   "execution_count": null,
   "metadata": {
    "collapsed": true
   },
   "outputs": [],
   "source": [
    "import matplotlib.pyplot as plt\n",
    "%matplotlib inline"
   ]
  },
  {
   "cell_type": "markdown",
   "metadata": {},
   "source": [
    "## 練習時間"
   ]
  },
  {
   "cell_type": "markdown",
   "metadata": {},
   "source": [
    "觀察有興趣的欄位的資料分佈，並嘗試找出有趣的訊息\n",
    "#### Eg\n",
    "- 計算任意欄位的平均數及標準差\n",
    "- 畫出任意欄位的[直方圖](https://zh.wikipedia.org/zh-tw/%E7%9B%B4%E6%96%B9%E5%9B%BE)\n",
    "\n",
    "### Hints:\n",
    "- [Descriptive Statistics For pandas Dataframe](https://chrisalbon.com/python/data_wrangling/pandas_dataframe_descriptive_stats/)\n",
    "- [pandas 中的繪圖函數](https://amaozhao.gitbooks.io/pandas-notebook/content/pandas%E4%B8%AD%E7%9A%84%E7%BB%98%E5%9B%BE%E5%87%BD%E6%95%B0.html)\n"
   ]
  },
  {
   "cell_type": "code",
   "execution_count": 17,
   "metadata": {},
   "outputs": [
    {
     "name": "stdout",
     "output_type": "stream",
     "text": [
      "<class 'pandas.core.frame.DataFrame'>\n",
      "<class 'pandas.core.frame.DataFrame'>\n",
      "30000\n",
      "36000\n",
      "45000\n",
      "52000\n",
      "Salary_y1\n",
      "Salary_y2\n",
      "Salary_y3\n",
      "Salary_y4\n",
      "[30000, 36000, 45000, 52000]\n"
     ]
    },
    {
     "data": {
      "text/plain": [
       "<AxesSubplot:>"
      ]
     },
     "execution_count": 17,
     "metadata": {},
     "output_type": "execute_result"
    },
    {
     "data": {
      "image/png": "[encoded data removed]",
      "text/plain": [
       "<Figure size 432x288 with 1 Axes>"
      ]
     },
     "metadata": {
      "needs_background": "light"
     },
     "output_type": "display_data"
    }
   ],
   "source": [
    "import pandas as pd\n",
    "import numpy as np\n",
    "import os\n",
    "\n",
    "path = os.path.abspath(\".\")+\"\\..\\data\\\\application_test.csv\"\n",
    "data = pd.read_csv(path)\n",
    "df = pd.DataFrame(data)\n",
    "\n",
    "print(df[\"AMT_INCOME_TOTAL\"].mean())\n",
    "print(df[\"AMT_INCOME_TOTAL\"].std())\n",
    "\n",
    "\n",
    "#----------------------------------------------------------\n",
    "\n",
    "#initailize data\n",
    "salary_year1 = [24000,30000,80000]\n",
    "salary_year2 = [27000,36000,58000]\n",
    "salary_year3 = [34000,45000,67000]\n",
    "salary_year4 = [40000,52000,80000]\n",
    "Name = [\"Jhon\",\"Peter\",\"Mary\"]\n",
    "\n",
    "#initialize dictionary\n",
    "dic = {\n",
    "    \"Salary_y1\":salary_year1,\n",
    "    \"Salary_y2\":salary_year2,\n",
    "    \"Salary_y3\":salary_year3,\n",
    "    \"Salary_y4\":salary_year4\n",
    "}\n",
    "\n",
    "#initalize DataFrame\n",
    "df = pd.DataFrame(dic,index = Name)\n",
    "df.head()\n",
    "\n",
    "#Data Processing\n",
    "Peter_df = df.loc[[\"Peter\"]]\n",
    "Peter_Salary_y1 = []\n",
    "for salary in Peter_df.iloc[0]:\n",
    "    print(salary)\n",
    "    Peter_Salary_y1.append(salary)\n",
    "    \n",
    "Peter_Year = []\n",
    "for year in Peter_df:\n",
    "    print(year)\n",
    "    Peter_Year.append(year)\n",
    "    \n",
    "print(Peter_Salary_y1)\n",
    "\n",
    "df2 = pd.Series(Peter_Salary_y1,index = Peter_Year)\n",
    "df2.plot(kind = \"bar\")"
   ]
  },
  {
   "cell_type": "code",
   "execution_count": 47,
   "metadata": {
    "collapsed": true
   },
   "outputs": [
    {
     "name": "stdout",
     "output_type": "stream",
     "text": [
      "range(1, 10)\n",
      "type: True\n",
      "[1 2 3 4 5 6 7 8 9]\n",
      "type: <class 'numpy.ndarray'>\n"
     ]
    }
   ],
   "source": [
    "import pandas as pd\n",
    "import numpy as np\n",
    "\n",
    "data = pd.Series(np.random.randn(1000),index = random)"
   ]
  },
  {
   "cell_type": "code",
   "execution_count": null,
   "metadata": {},
   "outputs": [],
   "source": []
  }
 ],
 "metadata": {
  "kernelspec": {
   "display_name": "Python 3",
   "language": "python",
   "name": "python3"
  },
  "language_info": {
   "codemirror_mode": {
    "name": "ipython",
    "version": 3
   },
   "file_extension": ".py",
   "mimetype": "text/x-python",
   "name": "python",
   "nbconvert_exporter": "python",
   "pygments_lexer": "ipython3",
   "version": "3.8.5"
  }
 },
 "nbformat": 4,
 "nbformat_minor": 2
}
